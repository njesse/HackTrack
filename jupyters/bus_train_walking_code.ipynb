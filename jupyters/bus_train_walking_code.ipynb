{
 "cells": [
  {
   "cell_type": "code",
   "execution_count": 37,
   "metadata": {},
   "outputs": [],
   "source": [
    "import warnings\n",
    "warnings.filterwarnings('ignore')\n",
    "import os\n",
    "import shutil\n",
    "\n",
    "import numpy as np\n",
    "import pandas as pd\n",
    "import math\n",
    "import itertools\n",
    "\n",
    "# Visualisation\n",
    "import matplotlib as mpl\n",
    "import matplotlib.pyplot as plt\n",
    "import matplotlib.pylab as pylab\n",
    "import seaborn as sns\n",
    "\n",
    "#SKLEARN\n",
    "\n",
    "from sklearn.model_selection import train_test_split\n",
    "from sklearn.model_selection import GridSearchCV\n",
    "from sklearn.preprocessing import LabelEncoder\n",
    "from sklearn.model_selection import KFold\n",
    "from sklearn.model_selection import cross_val_score\n",
    "from sklearn.pipeline import Pipeline\n",
    "from sklearn import svm, datasets\n",
    "from sklearn.metrics import confusion_matrix\n",
    "from sklearn.neighbors import KNeighborsClassifier\n"
   ]
  },
  {
   "cell_type": "code",
   "execution_count": 38,
   "metadata": {},
   "outputs": [],
   "source": [
    "# Read in data from CSV\n",
    "df_acc = pd.read_csv(\"acc_4.csv\")\n",
    "\n",
    "\n",
    "def half_int(x):\n",
    "    val=0.5 * math.ceil(2.0 * x)\n",
    "    return val\n",
    "\n",
    "#Cleaning function\n",
    "def cleaning(df_acc):\n",
    "    # Rename df_acc column, 'train' -> 'mode'\n",
    "    df_acc.columns = ['TI', 'TS', 'x', 'y', 'z', 'mode', 'dataset']\n",
    "\n",
    "    # Drop TS column and replace transportation mode into integer\n",
    "    df_acc = df_acc.drop(columns=[\"TS\"]).replace({'mode': {'Bus':2, 'Train': 1, 'Walking': 0}})\n",
    "\n",
    "\n",
    "    # Convert TI value to integer\n",
    "    df_acc['TI'] = df_acc['TI'].apply(lambda x: half_int(x))\n",
    "\n",
    "    # Group by and get mean by TI as key\n",
    "    ndf_acc = df_acc.groupby(['TI', 'dataset'], as_index=False)[['x', 'y', 'z', 'mode']].mean()\n",
    "\n",
    "    # Clean filtered data\n",
    "    ndf_acc.columns = ['TI', 'dataset', 'acc_x', 'acc_y', 'acc_z', 'mode']\n",
    "\n",
    "    \n",
    "    return ndf_acc\n",
    "\n",
    "#Cleaning function\n",
    "def cleaning_tests(df_acc):\n",
    "    # Rename df_acc column, 'train' -> 'mode'\n",
    "    df_acc.columns = ['TI', 'TS', 'x', 'y', 'z', 'mode']\n",
    "\n",
    "    # Drop TS column and replace transportation mode into integer\n",
    "    df_acc = df_acc.drop(columns=[\"TS\"]).replace({'mode': {'Bus':2,'Train': 1, 'Walking': 0}})\n",
    "\n",
    "\n",
    "     # Convert TI value to integer\n",
    "    df_acc['TI'] = df_acc['TI'].apply(lambda x: half_int(x))\n",
    "\n",
    "\n",
    "    # Group by and get mean by TI as key\n",
    "    ndf_acc = df_acc.groupby(['TI'], as_index=False)[['x', 'y', 'z', 'mode']].mean()\n",
    "\n",
    "\n",
    "    # Clean filtered data\n",
    "    ndf_acc.columns = ['TI', 'acc_x', 'acc_y', 'acc_z', 'mode']\n",
    "    \n",
    "    return ndf_acc"
   ]
  },
  {
   "cell_type": "code",
   "execution_count": 39,
   "metadata": {},
   "outputs": [],
   "source": [
    "df=cleaning(df_acc)\n",
    "\n",
    "#Magnitude dataframe\n",
    "df['acc_magnitude']=(df['acc_x']**2+df['acc_y']**2+df['acc_z']**2)**(1/2.0)\n",
    "\n",
    "#Overlapping\n",
    "n=10\n",
    "o=5\n",
    "X=[df['acc_magnitude'].values[x:x+n] for x in range(0,len(df['acc_magnitude'])-n+1, o) if (df.iloc[x]['dataset'] == df.iloc[x+n-1]['dataset'] and df.iloc[x]['mode'] == df.iloc[x+n-1]['mode'])]\n",
    "X=np.asarray(X)\n",
    "\n",
    "Y=[df['mode'].values[x] for x in range(0,len(df['mode'])-n+1, o) if df.iloc[x]['dataset'] == df.iloc[x+n-1]['dataset'] and df.iloc[x]['mode'] == df.iloc[x+n-1]['mode']]\n",
    "Y=np.asarray(Y)\n",
    "\n",
    "#THIS IS THE FILE THAT WILL COME FROM API\n",
    "new_df_acc=pd.read_csv(\"acc_test_4.csv\")\n",
    "\n",
    "new_df=cleaning_tests(new_df_acc)\n",
    "\n",
    "df=new_df\n",
    "\n",
    "#Mag + Overlapping for test\n",
    "\n",
    "df['acc_magnitude']=(df['acc_x']**2+df['acc_y']**2+df['acc_z']**2)**(1/2.0)\n",
    "\n",
    "#Overlapping\n",
    "n=10\n",
    "o=5\n",
    "X_new=[df['acc_magnitude'].values[x:x+n] for x in range(0,len(df['acc_magnitude'])-n+1, o) if (df.iloc[x]['mode'] == df.iloc[x+n-1]['mode'])]\n",
    "X_new=np.asarray(X_new)\n",
    "\n",
    "Y_new=[df['mode'].values[x] for x in range(0,len(df['mode'])-n+1, o) if df.iloc[x]['mode'] == df.iloc[x+n-1]['mode']]\n",
    "Y_new=np.asarray(Y_new)\n",
    "\n",
    "times=[df['TI'].values[x] for x in range(0,len(df['TI'])-n+1, o) if df.iloc[x]['mode'] == df.iloc[x+n-1]['mode']]\n",
    "\n",
    "times_ref=new_df_acc\n",
    "times_ref['TI']=new_df_acc['TI'].apply(lambda x: half_int(x))\n",
    "times_ref=times_ref.loc[times_ref['TI'].isin(times)]\n",
    "times_ref=times_ref.drop_duplicates(subset='TI', keep=\"last\")['TS']\n"
   ]
  },
  {
   "cell_type": "code",
   "execution_count": 19,
   "metadata": {},
   "outputs": [
    {
     "name": "stdout",
     "output_type": "stream",
     "text": [
      "[0.7954658759365483, 0.7983348204674858, 0.8239523292992489, 0.8185439757521283, 0.8259421110649543, 0.8239555757995216, 0.8277487797238956, 0.8302703417313981, 0.830091131419217, 0.8291911980464951, 0.8273952236042508, 0.8273903521052779, 0.8273974874116223, 0.8255882215524627, 0.8273939319983972, 0.8273874424949795, 0.8248678283876408, 0.8232426303511241, 0.8221644623648668, 0.8217956704252707, 0.8208986536571027, 0.8181946383342742, 0.8192796187254127, 0.8180154315192208, 0.8174823456830593, 0.8158564948493602, 0.8162191306783854, 0.8147750873570857, 0.8145929639374787, 0.8135115529480764]\n"
     ]
    },
    {
     "data": {
      "text/plain": [
       "7"
      ]
     },
     "execution_count": 19,
     "metadata": {},
     "output_type": "execute_result"
    }
   ],
   "source": [
    "#K - Cross Validation\n",
    "# search for an optimal value of K for KNN\n",
    "\n",
    "# range of k we want to try\n",
    "k_range = range(1, 31)\n",
    "# empty list to store scores\n",
    "k_scores = []\n",
    "\n",
    "# 1. we will loop through reasonable values of k\n",
    "for k in k_range:\n",
    "    # 2. run KNeighborsClassifier with k neighbours\n",
    "    knn = KNeighborsClassifier(n_neighbors=k)\n",
    "    # 3. obtain cross_val_score for KNeighborsClassifier with k neighbours\n",
    "    scores = cross_val_score(knn, X, Y, cv=10, scoring='accuracy')\n",
    "    # 4. append mean of scores for k neighbors to k_scores list\n",
    "    k_scores.append(scores.mean())\n",
    "\n",
    "\n",
    "print(k_scores)\n",
    "k_scores.index(max(k_scores))"
   ]
  },
  {
   "cell_type": "code",
   "execution_count": 40,
   "metadata": {},
   "outputs": [
    {
     "data": {
      "text/plain": [
       "0.8492492492492493"
      ]
     },
     "execution_count": 40,
     "metadata": {},
     "output_type": "execute_result"
    }
   ],
   "source": [
    "X_train, X_test, Y_train, Y_test = train_test_split(X, Y, test_size=0.30)\n",
    "\n",
    "\n",
    "# instantiate learning model (k = 2)\n",
    "knn = KNeighborsClassifier(n_neighbors=7)\n",
    "\n",
    "# fitting the model\n",
    "knn.fit(X_train, Y_train)\n",
    "\n",
    "# predict the response\n",
    "pred = knn.predict(X_test)\n",
    "\n",
    "# evaluate accuracy\n",
    "import sklearn\n",
    "sklearn.metrics.accuracy_score(Y_test, pred)\n"
   ]
  },
  {
   "cell_type": "code",
   "execution_count": 45,
   "metadata": {},
   "outputs": [
    {
     "name": "stdout",
     "output_type": "stream",
     "text": [
      "Normalized confusion matrix\n",
      "[[0.03 0.96 0.01]\n",
      " [0.06 0.94 0.  ]\n",
      " [0.24 0.44 0.32]]\n"
     ]
    },
    {
     "data": {
      "image/png": "[encoded data removed]",
      "text/plain": [
       "<Figure size 432x288 with 2 Axes>"
      ]
     },
     "metadata": {
      "needs_background": "light"
     },
     "output_type": "display_data"
    }
   ],
   "source": [
    "def plot_confusion_matrix(cm, classes,\n",
    "                          normalize=False,\n",
    "                          title='Confusion matrix',\n",
    "                          cmap=plt.cm.Blues):\n",
    "    \"\"\"\n",
    "    This function prints and plots the confusion matrix.\n",
    "    Normalization can be applied by setting `normalize=True`.\n",
    "    \"\"\"\n",
    "    if normalize:\n",
    "        cm = cm.astype('float') / cm.sum(axis=1)[:, np.newaxis]\n",
    "        print(\"Normalized confusion matrix\")\n",
    "    else:\n",
    "        print('Confusion matrix, without normalization')\n",
    "\n",
    "    print(cm)\n",
    "\n",
    "\n",
    "    fmt = '.2f' if normalize else 'd'\n",
    "    thresh = cm.max() / 2.\n",
    "  \n",
    "    sns.heatmap(cm, annot=True)\n",
    "\n",
    "# Compute confusion matrix\n",
    "cnf_matrix = confusion_matrix(Y_new, pred_new)\n",
    "np.set_printoptions(precision=2)\n",
    "\n",
    "\n",
    "\n",
    "plot_confusion_matrix(cnf_matrix, normalize=True, classes=[\"Walking\", \"Train\", \"Bus\"],\n",
    "                      title='Normalized confusion matrix')\n",
    "\n",
    "plt.show()"
   ]
  },
  {
   "cell_type": "code",
   "execution_count": 41,
   "metadata": {},
   "outputs": [],
   "source": [
    "#Results\n",
    "pred_new = knn.predict(X_new)\n",
    "probs=knn.predict_proba(X_new)\n",
    "last_acc=sklearn.metrics.accuracy_score(Y_new, pred_new)\n",
    "\n"
   ]
  },
  {
   "cell_type": "code",
   "execution_count": 46,
   "metadata": {},
   "outputs": [
    {
     "data": {
      "text/plain": [
       "array([[0.14, 0.86, 0.  ],\n",
       "       [0.  , 1.  , 0.  ],\n",
       "       [0.  , 1.  , 0.  ],\n",
       "       ...,\n",
       "       [0.29, 0.71, 0.  ],\n",
       "       [0.  , 1.  , 0.  ],\n",
       "       [0.29, 0.71, 0.  ]])"
      ]
     },
     "execution_count": 46,
     "metadata": {},
     "output_type": "execute_result"
    }
   ],
   "source": [
    "#SEND TO UI\n",
    "last_acc #accuracy of the model\n",
    "results=np.column_stack([np.transpose(np.column_stack(times_ref)) ,np.transpose(np.column_stack(pred_new))])\n",
    "results #results \n",
    "probs #probability per observation\n",
    "                                   "
   ]
  },
  {
   "cell_type": "code",
   "execution_count": null,
   "metadata": {},
   "outputs": [],
   "source": []
  }
 ],
 "metadata": {
  "kernelspec": {
   "display_name": "Python 3",
   "language": "python",
   "name": "python3"
  },
  "language_info": {
   "codemirror_mode": {
    "name": "ipython",
    "version": 3
   },
   "file_extension": ".py",
   "mimetype": "text/x-python",
   "name": "python",
   "nbconvert_exporter": "python",
   "pygments_lexer": "ipython3",
   "version": "3.6.0"
  }
 },
 "nbformat": 4,
 "nbformat_minor": 2
}
