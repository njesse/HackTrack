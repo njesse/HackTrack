{
 "cells": [
  {
   "cell_type": "code",
   "execution_count": 1,
   "metadata": {},
   "outputs": [],
   "source": [
    "import math\n",
    "import numpy as np\n",
    "import pandas as pd\n",
    "import seaborn as sns\n",
    "import matplotlib.pyplot as plt\n",
    "from sklearn.neighbors import KNeighborsClassifier"
   ]
  },
  {
   "cell_type": "code",
   "execution_count": 2,
   "metadata": {},
   "outputs": [],
   "source": [
    "df_acc = pd.read_csv(\"../data/acc_1.csv\")\n",
    "df_gyr = pd.read_csv(\"../data/gyro_1.csv\")\n",
    "df_mag = pd.read_csv(\"../data/mag_1.csv\")"
   ]
  },
  {
   "cell_type": "code",
   "execution_count": 3,
   "metadata": {},
   "outputs": [
    {
     "data": {
      "text/html": [
       "<div>\n",
       "<style scoped>\n",
       "    .dataframe tbody tr th:only-of-type {\n",
       "        vertical-align: middle;\n",
       "    }\n",
       "\n",
       "    .dataframe tbody tr th {\n",
       "        vertical-align: top;\n",
       "    }\n",
       "\n",
       "    .dataframe thead th {\n",
       "        text-align: right;\n",
       "    }\n",
       "</style>\n",
       "<table border=\"1\" class=\"dataframe\">\n",
       "  <thead>\n",
       "    <tr style=\"text-align: right;\">\n",
       "      <th></th>\n",
       "      <th>TI</th>\n",
       "      <th>TS</th>\n",
       "      <th>x</th>\n",
       "      <th>y</th>\n",
       "      <th>z</th>\n",
       "      <th>train</th>\n",
       "      <th>dataset</th>\n",
       "    </tr>\n",
       "  </thead>\n",
       "  <tbody>\n",
       "    <tr>\n",
       "      <th>0</th>\n",
       "      <td>16285.29835</td>\n",
       "      <td>30/10/2018 09:31</td>\n",
       "      <td>0.371414</td>\n",
       "      <td>-0.397400</td>\n",
       "      <td>-0.992050</td>\n",
       "      <td>Train</td>\n",
       "      <td>1</td>\n",
       "    </tr>\n",
       "    <tr>\n",
       "      <th>1</th>\n",
       "      <td>16285.34823</td>\n",
       "      <td>30/10/2018 09:31</td>\n",
       "      <td>0.288406</td>\n",
       "      <td>-0.434921</td>\n",
       "      <td>-0.782578</td>\n",
       "      <td>Train</td>\n",
       "      <td>1</td>\n",
       "    </tr>\n",
       "    <tr>\n",
       "      <th>2</th>\n",
       "      <td>16285.39808</td>\n",
       "      <td>30/10/2018 09:31</td>\n",
       "      <td>0.267029</td>\n",
       "      <td>-0.472397</td>\n",
       "      <td>-0.857925</td>\n",
       "      <td>Train</td>\n",
       "      <td>1</td>\n",
       "    </tr>\n",
       "    <tr>\n",
       "      <th>3</th>\n",
       "      <td>16285.44798</td>\n",
       "      <td>30/10/2018 09:31</td>\n",
       "      <td>0.238480</td>\n",
       "      <td>-0.496552</td>\n",
       "      <td>-0.708939</td>\n",
       "      <td>Train</td>\n",
       "      <td>1</td>\n",
       "    </tr>\n",
       "    <tr>\n",
       "      <th>4</th>\n",
       "      <td>16285.49786</td>\n",
       "      <td>30/10/2018 09:31</td>\n",
       "      <td>0.222549</td>\n",
       "      <td>-0.465073</td>\n",
       "      <td>-0.845734</td>\n",
       "      <td>Train</td>\n",
       "      <td>1</td>\n",
       "    </tr>\n",
       "  </tbody>\n",
       "</table>\n",
       "</div>"
      ],
      "text/plain": [
       "            TI                TS         x         y         z  train  dataset\n",
       "0  16285.29835  30/10/2018 09:31  0.371414 -0.397400 -0.992050  Train        1\n",
       "1  16285.34823  30/10/2018 09:31  0.288406 -0.434921 -0.782578  Train        1\n",
       "2  16285.39808  30/10/2018 09:31  0.267029 -0.472397 -0.857925  Train        1\n",
       "3  16285.44798  30/10/2018 09:31  0.238480 -0.496552 -0.708939  Train        1\n",
       "4  16285.49786  30/10/2018 09:31  0.222549 -0.465073 -0.845734  Train        1"
      ]
     },
     "execution_count": 3,
     "metadata": {},
     "output_type": "execute_result"
    }
   ],
   "source": [
    "df_acc.head()"
   ]
  },
  {
   "cell_type": "code",
   "execution_count": 4,
   "metadata": {},
   "outputs": [],
   "source": [
    "df_acc.columns = ['TI', 'TS', 'x', 'y', 'z', 'mode', 'dataset']"
   ]
  },
  {
   "cell_type": "code",
   "execution_count": 5,
   "metadata": {},
   "outputs": [
    {
     "data": {
      "text/plain": [
       "array(['Train', 'Walking'], dtype=object)"
      ]
     },
     "execution_count": 5,
     "metadata": {},
     "output_type": "execute_result"
    }
   ],
   "source": [
    "df_acc['mode'].unique()"
   ]
  },
  {
   "cell_type": "code",
   "execution_count": 6,
   "metadata": {},
   "outputs": [
    {
     "data": {
      "text/html": [
       "<div>\n",
       "<style scoped>\n",
       "    .dataframe tbody tr th:only-of-type {\n",
       "        vertical-align: middle;\n",
       "    }\n",
       "\n",
       "    .dataframe tbody tr th {\n",
       "        vertical-align: top;\n",
       "    }\n",
       "\n",
       "    .dataframe thead th {\n",
       "        text-align: right;\n",
       "    }\n",
       "</style>\n",
       "<table border=\"1\" class=\"dataframe\">\n",
       "  <thead>\n",
       "    <tr style=\"text-align: right;\">\n",
       "      <th></th>\n",
       "      <th>TI</th>\n",
       "      <th>TS</th>\n",
       "      <th>x</th>\n",
       "      <th>y</th>\n",
       "      <th>z</th>\n",
       "      <th>mode</th>\n",
       "      <th>dataset</th>\n",
       "    </tr>\n",
       "  </thead>\n",
       "  <tbody>\n",
       "    <tr>\n",
       "      <th>0</th>\n",
       "      <td>16285.29835</td>\n",
       "      <td>30/10/2018 09:31</td>\n",
       "      <td>0.371414</td>\n",
       "      <td>-0.397400</td>\n",
       "      <td>-0.992050</td>\n",
       "      <td>Train</td>\n",
       "      <td>1</td>\n",
       "    </tr>\n",
       "    <tr>\n",
       "      <th>1</th>\n",
       "      <td>16285.34823</td>\n",
       "      <td>30/10/2018 09:31</td>\n",
       "      <td>0.288406</td>\n",
       "      <td>-0.434921</td>\n",
       "      <td>-0.782578</td>\n",
       "      <td>Train</td>\n",
       "      <td>1</td>\n",
       "    </tr>\n",
       "    <tr>\n",
       "      <th>2</th>\n",
       "      <td>16285.39808</td>\n",
       "      <td>30/10/2018 09:31</td>\n",
       "      <td>0.267029</td>\n",
       "      <td>-0.472397</td>\n",
       "      <td>-0.857925</td>\n",
       "      <td>Train</td>\n",
       "      <td>1</td>\n",
       "    </tr>\n",
       "    <tr>\n",
       "      <th>3</th>\n",
       "      <td>16285.44798</td>\n",
       "      <td>30/10/2018 09:31</td>\n",
       "      <td>0.238480</td>\n",
       "      <td>-0.496552</td>\n",
       "      <td>-0.708939</td>\n",
       "      <td>Train</td>\n",
       "      <td>1</td>\n",
       "    </tr>\n",
       "    <tr>\n",
       "      <th>4</th>\n",
       "      <td>16285.49786</td>\n",
       "      <td>30/10/2018 09:31</td>\n",
       "      <td>0.222549</td>\n",
       "      <td>-0.465073</td>\n",
       "      <td>-0.845734</td>\n",
       "      <td>Train</td>\n",
       "      <td>1</td>\n",
       "    </tr>\n",
       "  </tbody>\n",
       "</table>\n",
       "</div>"
      ],
      "text/plain": [
       "            TI                TS         x         y         z   mode  dataset\n",
       "0  16285.29835  30/10/2018 09:31  0.371414 -0.397400 -0.992050  Train        1\n",
       "1  16285.34823  30/10/2018 09:31  0.288406 -0.434921 -0.782578  Train        1\n",
       "2  16285.39808  30/10/2018 09:31  0.267029 -0.472397 -0.857925  Train        1\n",
       "3  16285.44798  30/10/2018 09:31  0.238480 -0.496552 -0.708939  Train        1\n",
       "4  16285.49786  30/10/2018 09:31  0.222549 -0.465073 -0.845734  Train        1"
      ]
     },
     "execution_count": 6,
     "metadata": {},
     "output_type": "execute_result"
    }
   ],
   "source": [
    "df_acc.head()"
   ]
  },
  {
   "cell_type": "code",
   "execution_count": 7,
   "metadata": {},
   "outputs": [
    {
     "data": {
      "text/html": [
       "<div>\n",
       "<style scoped>\n",
       "    .dataframe tbody tr th:only-of-type {\n",
       "        vertical-align: middle;\n",
       "    }\n",
       "\n",
       "    .dataframe tbody tr th {\n",
       "        vertical-align: top;\n",
       "    }\n",
       "\n",
       "    .dataframe thead th {\n",
       "        text-align: right;\n",
       "    }\n",
       "</style>\n",
       "<table border=\"1\" class=\"dataframe\">\n",
       "  <thead>\n",
       "    <tr style=\"text-align: right;\">\n",
       "      <th></th>\n",
       "      <th>TI</th>\n",
       "      <th>TS</th>\n",
       "      <th>x</th>\n",
       "      <th>y</th>\n",
       "      <th>z</th>\n",
       "      <th>mode</th>\n",
       "      <th>dataset</th>\n",
       "    </tr>\n",
       "  </thead>\n",
       "  <tbody>\n",
       "    <tr>\n",
       "      <th>0</th>\n",
       "      <td>16285.29769</td>\n",
       "      <td>30/10/2018 09:31</td>\n",
       "      <td>-0.697962</td>\n",
       "      <td>-0.054194</td>\n",
       "      <td>0.000980</td>\n",
       "      <td>Train</td>\n",
       "      <td>1</td>\n",
       "    </tr>\n",
       "    <tr>\n",
       "      <th>1</th>\n",
       "      <td>16285.34768</td>\n",
       "      <td>30/10/2018 09:31</td>\n",
       "      <td>0.728635</td>\n",
       "      <td>-1.202511</td>\n",
       "      <td>0.490530</td>\n",
       "      <td>Train</td>\n",
       "      <td>1</td>\n",
       "    </tr>\n",
       "    <tr>\n",
       "      <th>2</th>\n",
       "      <td>16285.39766</td>\n",
       "      <td>30/10/2018 09:31</td>\n",
       "      <td>0.774223</td>\n",
       "      <td>-0.060192</td>\n",
       "      <td>0.439660</td>\n",
       "      <td>Train</td>\n",
       "      <td>1</td>\n",
       "    </tr>\n",
       "    <tr>\n",
       "      <th>3</th>\n",
       "      <td>16285.44769</td>\n",
       "      <td>30/10/2018 09:31</td>\n",
       "      <td>-0.022081</td>\n",
       "      <td>0.079464</td>\n",
       "      <td>0.325580</td>\n",
       "      <td>Train</td>\n",
       "      <td>1</td>\n",
       "    </tr>\n",
       "    <tr>\n",
       "      <th>4</th>\n",
       "      <td>16285.49768</td>\n",
       "      <td>30/10/2018 09:31</td>\n",
       "      <td>-0.193216</td>\n",
       "      <td>-0.485614</td>\n",
       "      <td>0.391706</td>\n",
       "      <td>Train</td>\n",
       "      <td>1</td>\n",
       "    </tr>\n",
       "  </tbody>\n",
       "</table>\n",
       "</div>"
      ],
      "text/plain": [
       "            TI                TS         x         y         z   mode  dataset\n",
       "0  16285.29769  30/10/2018 09:31 -0.697962 -0.054194  0.000980  Train        1\n",
       "1  16285.34768  30/10/2018 09:31  0.728635 -1.202511  0.490530  Train        1\n",
       "2  16285.39766  30/10/2018 09:31  0.774223 -0.060192  0.439660  Train        1\n",
       "3  16285.44769  30/10/2018 09:31 -0.022081  0.079464  0.325580  Train        1\n",
       "4  16285.49768  30/10/2018 09:31 -0.193216 -0.485614  0.391706  Train        1"
      ]
     },
     "execution_count": 7,
     "metadata": {},
     "output_type": "execute_result"
    }
   ],
   "source": [
    "df_gyr.head()"
   ]
  },
  {
   "cell_type": "code",
   "execution_count": 8,
   "metadata": {},
   "outputs": [
    {
     "data": {
      "text/html": [
       "<div>\n",
       "<style scoped>\n",
       "    .dataframe tbody tr th:only-of-type {\n",
       "        vertical-align: middle;\n",
       "    }\n",
       "\n",
       "    .dataframe tbody tr th {\n",
       "        vertical-align: top;\n",
       "    }\n",
       "\n",
       "    .dataframe thead th {\n",
       "        text-align: right;\n",
       "    }\n",
       "</style>\n",
       "<table border=\"1\" class=\"dataframe\">\n",
       "  <thead>\n",
       "    <tr style=\"text-align: right;\">\n",
       "      <th></th>\n",
       "      <th>TI</th>\n",
       "      <th>TS</th>\n",
       "      <th>x</th>\n",
       "      <th>y</th>\n",
       "      <th>z</th>\n",
       "      <th>mode</th>\n",
       "      <th>dataset</th>\n",
       "    </tr>\n",
       "  </thead>\n",
       "  <tbody>\n",
       "    <tr>\n",
       "      <th>0</th>\n",
       "      <td>16285.32970</td>\n",
       "      <td>30/10/2018 09:31</td>\n",
       "      <td>129.828247</td>\n",
       "      <td>16.481079</td>\n",
       "      <td>-768.625793</td>\n",
       "      <td>Train</td>\n",
       "      <td>1</td>\n",
       "    </tr>\n",
       "    <tr>\n",
       "      <th>1</th>\n",
       "      <td>16285.36921</td>\n",
       "      <td>30/10/2018 09:31</td>\n",
       "      <td>129.488373</td>\n",
       "      <td>15.472031</td>\n",
       "      <td>-771.260376</td>\n",
       "      <td>Train</td>\n",
       "      <td>1</td>\n",
       "    </tr>\n",
       "    <tr>\n",
       "      <th>2</th>\n",
       "      <td>16285.40871</td>\n",
       "      <td>30/10/2018 09:31</td>\n",
       "      <td>126.939392</td>\n",
       "      <td>13.622116</td>\n",
       "      <td>-771.095703</td>\n",
       "      <td>Train</td>\n",
       "      <td>1</td>\n",
       "    </tr>\n",
       "    <tr>\n",
       "      <th>3</th>\n",
       "      <td>16285.44819</td>\n",
       "      <td>30/10/2018 09:31</td>\n",
       "      <td>128.808655</td>\n",
       "      <td>13.790283</td>\n",
       "      <td>-771.260376</td>\n",
       "      <td>Train</td>\n",
       "      <td>1</td>\n",
       "    </tr>\n",
       "    <tr>\n",
       "      <th>4</th>\n",
       "      <td>16285.48769</td>\n",
       "      <td>30/10/2018 09:31</td>\n",
       "      <td>128.808655</td>\n",
       "      <td>12.108551</td>\n",
       "      <td>-770.931030</td>\n",
       "      <td>Train</td>\n",
       "      <td>1</td>\n",
       "    </tr>\n",
       "  </tbody>\n",
       "</table>\n",
       "</div>"
      ],
      "text/plain": [
       "            TI                TS           x          y           z   mode  \\\n",
       "0  16285.32970  30/10/2018 09:31  129.828247  16.481079 -768.625793  Train   \n",
       "1  16285.36921  30/10/2018 09:31  129.488373  15.472031 -771.260376  Train   \n",
       "2  16285.40871  30/10/2018 09:31  126.939392  13.622116 -771.095703  Train   \n",
       "3  16285.44819  30/10/2018 09:31  128.808655  13.790283 -771.260376  Train   \n",
       "4  16285.48769  30/10/2018 09:31  128.808655  12.108551 -770.931030  Train   \n",
       "\n",
       "   dataset  \n",
       "0        1  \n",
       "1        1  \n",
       "2        1  \n",
       "3        1  \n",
       "4        1  "
      ]
     },
     "execution_count": 8,
     "metadata": {},
     "output_type": "execute_result"
    }
   ],
   "source": [
    "df_mag.head()"
   ]
  },
  {
   "cell_type": "code",
   "execution_count": 9,
   "metadata": {},
   "outputs": [],
   "source": [
    "def convert(num):\n",
    "    return 1 if num >= 0.5 else 0"
   ]
  },
  {
   "cell_type": "markdown",
   "metadata": {},
   "source": [
    "# Feature Generation"
   ]
  },
  {
   "cell_type": "code",
   "execution_count": 10,
   "metadata": {},
   "outputs": [],
   "source": [
    "df_acc = df_acc.drop(columns=[\"TS\"]).replace({'mode': {'Train': 1, 'Walking': 0}})\n",
    "df_gyr = df_gyr.drop(columns=[\"TS\"]).replace({'mode': {'Train': 1, 'Walking': 0}})\n",
    "df_mag = df_mag.drop(columns=[\"TS\"]).replace({'mode': {'Train': 1, 'Walking': 0}})"
   ]
  },
  {
   "cell_type": "code",
   "execution_count": 11,
   "metadata": {},
   "outputs": [],
   "source": [
    "df_acc['mean'] = df_acc[['x', 'y', 'z']].mean(axis=1)\n",
    "df_gyr['mean'] = df_gyr[['x', 'y', 'z']].mean(axis=1)\n",
    "df_mag['mean'] = df_mag[['x', 'y', 'z']].mean(axis=1)"
   ]
  },
  {
   "cell_type": "code",
   "execution_count": 12,
   "metadata": {},
   "outputs": [],
   "source": [
    "df_acc['variance'] = df_acc[['x', 'y', 'z']].var(axis=1)\n",
    "df_gyr['variance'] = df_gyr[['x', 'y', 'z']].var(axis=1)\n",
    "df_mag['variance'] = df_mag[['x', 'y', 'z']].var(axis=1)"
   ]
  },
  {
   "cell_type": "markdown",
   "metadata": {},
   "source": [
    "# Preprocessing"
   ]
  },
  {
   "cell_type": "code",
   "execution_count": 13,
   "metadata": {},
   "outputs": [],
   "source": [
    "df_acc['TI'] = df_acc['TI'].apply(lambda x: math.floor(x))\n",
    "df_gyr['TI'] = df_gyr['TI'].apply(lambda x: math.floor(x))\n",
    "df_mag['TI'] = df_mag['TI'].apply(lambda x: math.floor(x))"
   ]
  },
  {
   "cell_type": "code",
   "execution_count": 14,
   "metadata": {},
   "outputs": [
    {
     "data": {
      "text/html": [
       "<div>\n",
       "<style scoped>\n",
       "    .dataframe tbody tr th:only-of-type {\n",
       "        vertical-align: middle;\n",
       "    }\n",
       "\n",
       "    .dataframe tbody tr th {\n",
       "        vertical-align: top;\n",
       "    }\n",
       "\n",
       "    .dataframe thead th {\n",
       "        text-align: right;\n",
       "    }\n",
       "</style>\n",
       "<table border=\"1\" class=\"dataframe\">\n",
       "  <thead>\n",
       "    <tr style=\"text-align: right;\">\n",
       "      <th></th>\n",
       "      <th>TI</th>\n",
       "      <th>x</th>\n",
       "      <th>y</th>\n",
       "      <th>z</th>\n",
       "      <th>mode</th>\n",
       "      <th>dataset</th>\n",
       "      <th>mean</th>\n",
       "      <th>variance</th>\n",
       "    </tr>\n",
       "  </thead>\n",
       "  <tbody>\n",
       "    <tr>\n",
       "      <th>380957</th>\n",
       "      <td>83128</td>\n",
       "      <td>0.234558</td>\n",
       "      <td>-0.248291</td>\n",
       "      <td>-0.809311</td>\n",
       "      <td>0</td>\n",
       "      <td>10</td>\n",
       "      <td>-0.274348</td>\n",
       "      <td>0.272925</td>\n",
       "    </tr>\n",
       "    <tr>\n",
       "      <th>380958</th>\n",
       "      <td>83128</td>\n",
       "      <td>0.128296</td>\n",
       "      <td>-0.260529</td>\n",
       "      <td>-0.754257</td>\n",
       "      <td>0</td>\n",
       "      <td>10</td>\n",
       "      <td>-0.295497</td>\n",
       "      <td>0.195642</td>\n",
       "    </tr>\n",
       "    <tr>\n",
       "      <th>380959</th>\n",
       "      <td>83128</td>\n",
       "      <td>0.010757</td>\n",
       "      <td>-0.235062</td>\n",
       "      <td>-0.652863</td>\n",
       "      <td>0</td>\n",
       "      <td>10</td>\n",
       "      <td>-0.292389</td>\n",
       "      <td>0.112563</td>\n",
       "    </tr>\n",
       "    <tr>\n",
       "      <th>380960</th>\n",
       "      <td>83128</td>\n",
       "      <td>0.031631</td>\n",
       "      <td>-0.344269</td>\n",
       "      <td>-0.572739</td>\n",
       "      <td>0</td>\n",
       "      <td>10</td>\n",
       "      <td>-0.295125</td>\n",
       "      <td>0.093127</td>\n",
       "    </tr>\n",
       "    <tr>\n",
       "      <th>380961</th>\n",
       "      <td>83128</td>\n",
       "      <td>0.104538</td>\n",
       "      <td>-0.410095</td>\n",
       "      <td>-0.823105</td>\n",
       "      <td>0</td>\n",
       "      <td>10</td>\n",
       "      <td>-0.376221</td>\n",
       "      <td>0.215991</td>\n",
       "    </tr>\n",
       "  </tbody>\n",
       "</table>\n",
       "</div>"
      ],
      "text/plain": [
       "           TI         x         y         z  mode  dataset      mean  variance\n",
       "380957  83128  0.234558 -0.248291 -0.809311     0       10 -0.274348  0.272925\n",
       "380958  83128  0.128296 -0.260529 -0.754257     0       10 -0.295497  0.195642\n",
       "380959  83128  0.010757 -0.235062 -0.652863     0       10 -0.292389  0.112563\n",
       "380960  83128  0.031631 -0.344269 -0.572739     0       10 -0.295125  0.093127\n",
       "380961  83128  0.104538 -0.410095 -0.823105     0       10 -0.376221  0.215991"
      ]
     },
     "execution_count": 14,
     "metadata": {},
     "output_type": "execute_result"
    }
   ],
   "source": [
    "df_acc.tail()"
   ]
  },
  {
   "cell_type": "code",
   "execution_count": 15,
   "metadata": {},
   "outputs": [],
   "source": [
    "ndf_acc = df_acc.groupby(['TI', 'dataset'], as_index=False)[['x', 'y', 'z', 'mode']].mean()\n",
    "ndf_gyr = df_gyr.groupby(['TI', 'dataset'], as_index=False)[['x', 'y', 'z', 'mode']].mean()\n",
    "ndf_mag = df_mag.groupby(['TI', 'dataset'], as_index=False)[['x', 'y', 'z', 'mode']].mean()"
   ]
  },
  {
   "cell_type": "code",
   "execution_count": 16,
   "metadata": {},
   "outputs": [],
   "source": [
    "ndf_acc['mode'] = ndf_acc['mode'].apply(lambda x: convert(x))\n",
    "ndf_gyr['mode'] = ndf_gyr['mode'].apply(lambda x: convert(x))\n",
    "ndf_mag['mode'] = ndf_mag['mode'].apply(lambda x: convert(x))"
   ]
  },
  {
   "cell_type": "code",
   "execution_count": 17,
   "metadata": {},
   "outputs": [],
   "source": [
    "#ndf_acc[['mean', 'variance']] = df_acc[['mode', 'mean', 'variance']]\n",
    "#ndf_gyr[['mean', 'variance']] = df_gyr[['mode', 'mean', 'variance']]\n",
    "#ndf_mag[['mean', 'variance']] = df_mag[['mode', 'mean', 'variance']]"
   ]
  },
  {
   "cell_type": "code",
   "execution_count": 18,
   "metadata": {},
   "outputs": [
    {
     "data": {
      "text/html": [
       "<div>\n",
       "<style scoped>\n",
       "    .dataframe tbody tr th:only-of-type {\n",
       "        vertical-align: middle;\n",
       "    }\n",
       "\n",
       "    .dataframe tbody tr th {\n",
       "        vertical-align: top;\n",
       "    }\n",
       "\n",
       "    .dataframe thead th {\n",
       "        text-align: right;\n",
       "    }\n",
       "</style>\n",
       "<table border=\"1\" class=\"dataframe\">\n",
       "  <thead>\n",
       "    <tr style=\"text-align: right;\">\n",
       "      <th></th>\n",
       "      <th>TI</th>\n",
       "      <th>dataset</th>\n",
       "      <th>x</th>\n",
       "      <th>y</th>\n",
       "      <th>z</th>\n",
       "      <th>mode</th>\n",
       "    </tr>\n",
       "  </thead>\n",
       "  <tbody>\n",
       "    <tr>\n",
       "      <th>18961</th>\n",
       "      <td>83124</td>\n",
       "      <td>10</td>\n",
       "      <td>0.919063</td>\n",
       "      <td>0.128857</td>\n",
       "      <td>-0.452180</td>\n",
       "      <td>0</td>\n",
       "    </tr>\n",
       "    <tr>\n",
       "      <th>18962</th>\n",
       "      <td>83125</td>\n",
       "      <td>10</td>\n",
       "      <td>0.925742</td>\n",
       "      <td>0.189614</td>\n",
       "      <td>-0.429865</td>\n",
       "      <td>0</td>\n",
       "    </tr>\n",
       "    <tr>\n",
       "      <th>18963</th>\n",
       "      <td>83126</td>\n",
       "      <td>10</td>\n",
       "      <td>1.031355</td>\n",
       "      <td>0.074676</td>\n",
       "      <td>-0.450363</td>\n",
       "      <td>0</td>\n",
       "    </tr>\n",
       "    <tr>\n",
       "      <th>18964</th>\n",
       "      <td>83127</td>\n",
       "      <td>10</td>\n",
       "      <td>0.191038</td>\n",
       "      <td>-0.389015</td>\n",
       "      <td>-0.789575</td>\n",
       "      <td>0</td>\n",
       "    </tr>\n",
       "    <tr>\n",
       "      <th>18965</th>\n",
       "      <td>83128</td>\n",
       "      <td>10</td>\n",
       "      <td>0.109367</td>\n",
       "      <td>-0.295113</td>\n",
       "      <td>-0.731873</td>\n",
       "      <td>0</td>\n",
       "    </tr>\n",
       "  </tbody>\n",
       "</table>\n",
       "</div>"
      ],
      "text/plain": [
       "          TI  dataset         x         y         z  mode\n",
       "18961  83124       10  0.919063  0.128857 -0.452180     0\n",
       "18962  83125       10  0.925742  0.189614 -0.429865     0\n",
       "18963  83126       10  1.031355  0.074676 -0.450363     0\n",
       "18964  83127       10  0.191038 -0.389015 -0.789575     0\n",
       "18965  83128       10  0.109367 -0.295113 -0.731873     0"
      ]
     },
     "execution_count": 18,
     "metadata": {},
     "output_type": "execute_result"
    }
   ],
   "source": [
    "ndf_acc.tail()"
   ]
  },
  {
   "cell_type": "code",
   "execution_count": 19,
   "metadata": {},
   "outputs": [
    {
     "data": {
      "text/plain": [
       "array([0, 1])"
      ]
     },
     "execution_count": 19,
     "metadata": {},
     "output_type": "execute_result"
    }
   ],
   "source": [
    "ndf_acc['mode'].unique()"
   ]
  },
  {
   "cell_type": "code",
   "execution_count": 20,
   "metadata": {},
   "outputs": [],
   "source": [
    "ndf_acc_mag = ndf_acc.merge(ndf_mag, on=['TI', 'dataset', 'mode'])"
   ]
  },
  {
   "cell_type": "code",
   "execution_count": 21,
   "metadata": {},
   "outputs": [
    {
     "data": {
      "text/html": [
       "<div>\n",
       "<style scoped>\n",
       "    .dataframe tbody tr th:only-of-type {\n",
       "        vertical-align: middle;\n",
       "    }\n",
       "\n",
       "    .dataframe tbody tr th {\n",
       "        vertical-align: top;\n",
       "    }\n",
       "\n",
       "    .dataframe thead th {\n",
       "        text-align: right;\n",
       "    }\n",
       "</style>\n",
       "<table border=\"1\" class=\"dataframe\">\n",
       "  <thead>\n",
       "    <tr style=\"text-align: right;\">\n",
       "      <th></th>\n",
       "      <th>TI</th>\n",
       "      <th>dataset</th>\n",
       "      <th>x_x</th>\n",
       "      <th>y_x</th>\n",
       "      <th>z_x</th>\n",
       "      <th>mode</th>\n",
       "      <th>x_y</th>\n",
       "      <th>y_y</th>\n",
       "      <th>z_y</th>\n",
       "    </tr>\n",
       "  </thead>\n",
       "  <tbody>\n",
       "    <tr>\n",
       "      <th>18959</th>\n",
       "      <td>83124</td>\n",
       "      <td>10</td>\n",
       "      <td>0.919063</td>\n",
       "      <td>0.128857</td>\n",
       "      <td>-0.452180</td>\n",
       "      <td>0</td>\n",
       "      <td>124.940992</td>\n",
       "      <td>-2.805156</td>\n",
       "      <td>-719.551001</td>\n",
       "    </tr>\n",
       "    <tr>\n",
       "      <th>18960</th>\n",
       "      <td>83125</td>\n",
       "      <td>10</td>\n",
       "      <td>0.925742</td>\n",
       "      <td>0.189614</td>\n",
       "      <td>-0.429865</td>\n",
       "      <td>0</td>\n",
       "      <td>122.808733</td>\n",
       "      <td>1.979277</td>\n",
       "      <td>-718.987610</td>\n",
       "    </tr>\n",
       "    <tr>\n",
       "      <th>18961</th>\n",
       "      <td>83126</td>\n",
       "      <td>10</td>\n",
       "      <td>1.031355</td>\n",
       "      <td>0.074676</td>\n",
       "      <td>-0.450363</td>\n",
       "      <td>0</td>\n",
       "      <td>129.257271</td>\n",
       "      <td>0.793776</td>\n",
       "      <td>-715.355498</td>\n",
       "    </tr>\n",
       "    <tr>\n",
       "      <th>18962</th>\n",
       "      <td>83127</td>\n",
       "      <td>10</td>\n",
       "      <td>0.191038</td>\n",
       "      <td>-0.389015</td>\n",
       "      <td>-0.789575</td>\n",
       "      <td>0</td>\n",
       "      <td>112.882598</td>\n",
       "      <td>-28.098573</td>\n",
       "      <td>-743.788728</td>\n",
       "    </tr>\n",
       "    <tr>\n",
       "      <th>18963</th>\n",
       "      <td>83128</td>\n",
       "      <td>10</td>\n",
       "      <td>0.109367</td>\n",
       "      <td>-0.295113</td>\n",
       "      <td>-0.731873</td>\n",
       "      <td>0</td>\n",
       "      <td>112.643846</td>\n",
       "      <td>-22.976826</td>\n",
       "      <td>-744.276932</td>\n",
       "    </tr>\n",
       "  </tbody>\n",
       "</table>\n",
       "</div>"
      ],
      "text/plain": [
       "          TI  dataset       x_x       y_x       z_x  mode         x_y  \\\n",
       "18959  83124       10  0.919063  0.128857 -0.452180     0  124.940992   \n",
       "18960  83125       10  0.925742  0.189614 -0.429865     0  122.808733   \n",
       "18961  83126       10  1.031355  0.074676 -0.450363     0  129.257271   \n",
       "18962  83127       10  0.191038 -0.389015 -0.789575     0  112.882598   \n",
       "18963  83128       10  0.109367 -0.295113 -0.731873     0  112.643846   \n",
       "\n",
       "             y_y         z_y  \n",
       "18959  -2.805156 -719.551001  \n",
       "18960   1.979277 -718.987610  \n",
       "18961   0.793776 -715.355498  \n",
       "18962 -28.098573 -743.788728  \n",
       "18963 -22.976826 -744.276932  "
      ]
     },
     "execution_count": 21,
     "metadata": {},
     "output_type": "execute_result"
    }
   ],
   "source": [
    "ndf_acc_mag.tail()"
   ]
  },
  {
   "cell_type": "code",
   "execution_count": 22,
   "metadata": {},
   "outputs": [
    {
     "data": {
      "text/plain": [
       "array([0, 1])"
      ]
     },
     "execution_count": 22,
     "metadata": {},
     "output_type": "execute_result"
    }
   ],
   "source": [
    "ndf_acc_mag['mode'].unique()"
   ]
  },
  {
   "cell_type": "code",
   "execution_count": 23,
   "metadata": {},
   "outputs": [],
   "source": [
    "fndf_acc_mag = ndf_acc_mag.drop(columns=['dataset', 'mode'])\n",
    "fndf_acc_mag.columns = ['TI', 'acc_x', 'acc_y', 'acc_z', 'mag_x', 'mag_y', 'mag_z']\n",
    "# fndf_acc_mag.columns = ['TI', 'acc_x', 'acc_y', 'acc_z', 'acc_mean', 'acc_variance', 'mag_x', 'mag_y', 'mag_z', 'mag_mean', 'mag_variance']"
   ]
  },
  {
   "cell_type": "code",
   "execution_count": 24,
   "metadata": {},
   "outputs": [],
   "source": [
    "fndf_acc_mag.drop(columns=['TI'], inplace=True)\n",
    "fndf_acc_mag['acc_norm'] = np.linalg.norm(fndf_acc_mag[['acc_x','acc_y','acc_z']].values,axis=1)\n",
    "fndf_acc_mag['mag_norm'] = np.linalg.norm(fndf_acc_mag[['mag_x','mag_y','mag_z']].values,axis=1)\n",
    "fndf_acc_mag['mode'] = ndf_acc_mag['mode']"
   ]
  },
  {
   "cell_type": "code",
   "execution_count": 25,
   "metadata": {},
   "outputs": [
    {
     "data": {
      "text/plain": [
       "array([0, 1])"
      ]
     },
     "execution_count": 25,
     "metadata": {},
     "output_type": "execute_result"
    }
   ],
   "source": [
    "fndf_acc_mag['mode'].unique()"
   ]
  },
  {
   "cell_type": "code",
   "execution_count": 26,
   "metadata": {},
   "outputs": [],
   "source": [
    "clean_data = fndf_acc_mag.values"
   ]
  },
  {
   "cell_type": "code",
   "execution_count": 27,
   "metadata": {},
   "outputs": [
    {
     "data": {
      "text/html": [
       "<div>\n",
       "<style scoped>\n",
       "    .dataframe tbody tr th:only-of-type {\n",
       "        vertical-align: middle;\n",
       "    }\n",
       "\n",
       "    .dataframe tbody tr th {\n",
       "        vertical-align: top;\n",
       "    }\n",
       "\n",
       "    .dataframe thead th {\n",
       "        text-align: right;\n",
       "    }\n",
       "</style>\n",
       "<table border=\"1\" class=\"dataframe\">\n",
       "  <thead>\n",
       "    <tr style=\"text-align: right;\">\n",
       "      <th></th>\n",
       "      <th>acc_x</th>\n",
       "      <th>acc_y</th>\n",
       "      <th>acc_z</th>\n",
       "      <th>mag_x</th>\n",
       "      <th>mag_y</th>\n",
       "      <th>mag_z</th>\n",
       "      <th>acc_norm</th>\n",
       "      <th>mag_norm</th>\n",
       "      <th>mode</th>\n",
       "    </tr>\n",
       "  </thead>\n",
       "  <tbody>\n",
       "    <tr>\n",
       "      <th>18959</th>\n",
       "      <td>0.919063</td>\n",
       "      <td>0.128857</td>\n",
       "      <td>-0.452180</td>\n",
       "      <td>124.940992</td>\n",
       "      <td>-2.805156</td>\n",
       "      <td>-719.551001</td>\n",
       "      <td>1.032350</td>\n",
       "      <td>730.323054</td>\n",
       "      <td>0</td>\n",
       "    </tr>\n",
       "    <tr>\n",
       "      <th>18960</th>\n",
       "      <td>0.925742</td>\n",
       "      <td>0.189614</td>\n",
       "      <td>-0.429865</td>\n",
       "      <td>122.808733</td>\n",
       "      <td>1.979277</td>\n",
       "      <td>-718.987610</td>\n",
       "      <td>1.038140</td>\n",
       "      <td>729.403239</td>\n",
       "      <td>0</td>\n",
       "    </tr>\n",
       "    <tr>\n",
       "      <th>18961</th>\n",
       "      <td>1.031355</td>\n",
       "      <td>0.074676</td>\n",
       "      <td>-0.450363</td>\n",
       "      <td>129.257271</td>\n",
       "      <td>0.793776</td>\n",
       "      <td>-715.355498</td>\n",
       "      <td>1.127872</td>\n",
       "      <td>726.939860</td>\n",
       "      <td>0</td>\n",
       "    </tr>\n",
       "    <tr>\n",
       "      <th>18962</th>\n",
       "      <td>0.191038</td>\n",
       "      <td>-0.389015</td>\n",
       "      <td>-0.789575</td>\n",
       "      <td>112.882598</td>\n",
       "      <td>-28.098573</td>\n",
       "      <td>-743.788728</td>\n",
       "      <td>0.900698</td>\n",
       "      <td>752.830448</td>\n",
       "      <td>0</td>\n",
       "    </tr>\n",
       "    <tr>\n",
       "      <th>18963</th>\n",
       "      <td>0.109367</td>\n",
       "      <td>-0.295113</td>\n",
       "      <td>-0.731873</td>\n",
       "      <td>112.643846</td>\n",
       "      <td>-22.976826</td>\n",
       "      <td>-744.276932</td>\n",
       "      <td>0.796674</td>\n",
       "      <td>753.103394</td>\n",
       "      <td>0</td>\n",
       "    </tr>\n",
       "  </tbody>\n",
       "</table>\n",
       "</div>"
      ],
      "text/plain": [
       "          acc_x     acc_y     acc_z       mag_x      mag_y       mag_z  \\\n",
       "18959  0.919063  0.128857 -0.452180  124.940992  -2.805156 -719.551001   \n",
       "18960  0.925742  0.189614 -0.429865  122.808733   1.979277 -718.987610   \n",
       "18961  1.031355  0.074676 -0.450363  129.257271   0.793776 -715.355498   \n",
       "18962  0.191038 -0.389015 -0.789575  112.882598 -28.098573 -743.788728   \n",
       "18963  0.109367 -0.295113 -0.731873  112.643846 -22.976826 -744.276932   \n",
       "\n",
       "       acc_norm    mag_norm  mode  \n",
       "18959  1.032350  730.323054     0  \n",
       "18960  1.038140  729.403239     0  \n",
       "18961  1.127872  726.939860     0  \n",
       "18962  0.900698  752.830448     0  \n",
       "18963  0.796674  753.103394     0  "
      ]
     },
     "execution_count": 27,
     "metadata": {},
     "output_type": "execute_result"
    }
   ],
   "source": [
    "fndf_acc_mag.tail()"
   ]
  },
  {
   "cell_type": "code",
   "execution_count": 28,
   "metadata": {},
   "outputs": [],
   "source": [
    "shuf_data = clean_data"
   ]
  },
  {
   "cell_type": "code",
   "execution_count": 29,
   "metadata": {},
   "outputs": [],
   "source": [
    "np.random.shuffle(shuf_data)"
   ]
  },
  {
   "cell_type": "code",
   "execution_count": 30,
   "metadata": {},
   "outputs": [],
   "source": [
    "num_train = int(shuf_data.shape[0] * 0.6)\n",
    "X_train = shuf_data[:num_train, :-1]\n",
    "Y_train = shuf_data[:num_train, -1].astype(int)\n",
    "X_test = shuf_data[num_train:, :-1]\n",
    "Y_test = shuf_data[num_train:, -1].astype(int)"
   ]
  },
  {
   "cell_type": "markdown",
   "metadata": {},
   "source": [
    "# Correlation Measure"
   ]
  },
  {
   "cell_type": "code",
   "execution_count": 31,
   "metadata": {},
   "outputs": [
    {
     "data": {
      "text/plain": [
       "array([-0.17544237,  0.09001973, -0.48340721,  0.26938954,  0.01293328,\n",
       "       -0.03407567, -0.07953907])"
      ]
     },
     "execution_count": 31,
     "metadata": {},
     "output_type": "execute_result"
    }
   ],
   "source": [
    "# Measure each axis Pearson coefficient against mode for Accelerometer\n",
    "np.corrcoef(df_acc[df_acc.columns].T)[-1][:-1]"
   ]
  },
  {
   "cell_type": "code",
   "execution_count": 32,
   "metadata": {},
   "outputs": [
    {
     "data": {
      "text/plain": [
       "array([-0.02135596, -0.01897278,  0.00705684, -0.02755964, -0.2825814 ,\n",
       "        0.04408104, -0.01621093])"
      ]
     },
     "execution_count": 32,
     "metadata": {},
     "output_type": "execute_result"
    }
   ],
   "source": [
    "# Measure each axis Pearson coefficient against mode for Gyro\n",
    "np.corrcoef(df_gyr[df_gyr.columns].T)[-1][:-1]"
   ]
  },
  {
   "cell_type": "code",
   "execution_count": 33,
   "metadata": {},
   "outputs": [
    {
     "data": {
      "text/plain": [
       "array([ 0.02264481,  0.32396308,  0.47078526, -0.90403234,  0.44313322,\n",
       "       -0.29525004, -0.18420917])"
      ]
     },
     "execution_count": 33,
     "metadata": {},
     "output_type": "execute_result"
    }
   ],
   "source": [
    "# Measure each axis Pearson coefficient against mode for Magnometer\n",
    "np.corrcoef(df_mag[df_mag.columns].T)[-1][:-1]"
   ]
  },
  {
   "cell_type": "code",
   "execution_count": 34,
   "metadata": {},
   "outputs": [
    {
     "data": {
      "text/plain": [
       "<matplotlib.image.AxesImage at 0x7fad9d587588>"
      ]
     },
     "execution_count": 34,
     "metadata": {},
     "output_type": "execute_result"
    },
    {
     "data": {
      "image/png": "[encoded data removed]",
      "text/plain": [
       "<Figure size 288x288 with 1 Axes>"
      ]
     },
     "metadata": {},
     "output_type": "display_data"
    }
   ],
   "source": [
    "plt.matshow(df_acc.corr())"
   ]
  },
  {
   "cell_type": "code",
   "execution_count": 35,
   "metadata": {},
   "outputs": [
    {
     "data": {
      "text/plain": [
       "<matplotlib.image.AxesImage at 0x7fada00cd518>"
      ]
     },
     "execution_count": 35,
     "metadata": {},
     "output_type": "execute_result"
    },
    {
     "data": {
      "image/png": "[encoded data removed]",
      "text/plain": [
       "<Figure size 288x288 with 1 Axes>"
      ]
     },
     "metadata": {},
     "output_type": "display_data"
    }
   ],
   "source": [
    "plt.matshow(df_gyr.corr())"
   ]
  },
  {
   "cell_type": "code",
   "execution_count": 36,
   "metadata": {},
   "outputs": [
    {
     "data": {
      "text/plain": [
       "<matplotlib.image.AxesImage at 0x7fada003c278>"
      ]
     },
     "execution_count": 36,
     "metadata": {},
     "output_type": "execute_result"
    },
    {
     "data": {
      "image/png": "[encoded data removed]",
      "text/plain": [
       "<Figure size 288x288 with 1 Axes>"
      ]
     },
     "metadata": {},
     "output_type": "display_data"
    }
   ],
   "source": [
    "plt.matshow(df_mag.corr())"
   ]
  },
  {
   "cell_type": "markdown",
   "metadata": {},
   "source": [
    "# Original Data Check"
   ]
  },
  {
   "cell_type": "code",
   "execution_count": 37,
   "metadata": {},
   "outputs": [],
   "source": [
    "odf_acc1 = pd.read_csv(\"../data/ori_data/dataset1/Accelerometer.csv\").dropna(subset=['mode'])\n",
    "odf_acc2 = pd.read_csv(\"../data/ori_data/dataset2/Accelerometer.csv\").dropna(subset=['mode'])\n",
    "odf_acc3 = pd.read_csv(\"../data/ori_data/dataset3/Accelerometer.csv\").dropna(subset=['mode'])\n",
    "odf_acc4 = pd.read_csv(\"../data/ori_data/dataset4/Accelerometer.csv\").dropna(subset=['mode'])\n",
    "odf_acc1 = odf_acc1.drop(columns=[\"TI\", \"TS\"]).replace({'mode': {'Train': 1, 'Walking': 0}})\n",
    "odf_acc2 = odf_acc2.drop(columns=[\"TI\", \"TS\"]).replace({'mode': {'Train': 1, 'Walking': 0}})\n",
    "odf_acc3 = odf_acc3.drop(columns=[\"TI\", \"TS\"]).replace({'mode': {'Train': 1, 'Walking': 0}})\n",
    "odf_acc4 = odf_acc4.drop(columns=[\"TI\", \"TS\"]).replace({'mode': {'Bus': 2, 'Train': 1, 'Walking': 0}})\n",
    "\n",
    "odf_acc1['mean'] = odf_acc1[['x', 'y', 'z']].mean(axis=1)\n",
    "odf_acc2['mean'] = odf_acc2[['x', 'y', 'z']].mean(axis=1)\n",
    "odf_acc3['mean'] = odf_acc3[['x', 'y', 'z']].mean(axis=1)\n",
    "odf_acc4['mean'] = odf_acc4[['x', 'y', 'z']].mean(axis=1)\n",
    "\n",
    "odf_acc1['variance'] = odf_acc1[['x', 'y', 'z']].var(axis=1)\n",
    "odf_acc2['variance'] = odf_acc2[['x', 'y', 'z']].var(axis=1)\n",
    "odf_acc3['variance'] = odf_acc3[['x', 'y', 'z']].var(axis=1)\n",
    "odf_acc4['variance'] = odf_acc4[['x', 'y', 'z']].var(axis=1)"
   ]
  },
  {
   "cell_type": "code",
   "execution_count": 38,
   "metadata": {},
   "outputs": [
    {
     "data": {
      "text/html": [
       "<div>\n",
       "<style scoped>\n",
       "    .dataframe tbody tr th:only-of-type {\n",
       "        vertical-align: middle;\n",
       "    }\n",
       "\n",
       "    .dataframe tbody tr th {\n",
       "        vertical-align: top;\n",
       "    }\n",
       "\n",
       "    .dataframe thead th {\n",
       "        text-align: right;\n",
       "    }\n",
       "</style>\n",
       "<table border=\"1\" class=\"dataframe\">\n",
       "  <thead>\n",
       "    <tr style=\"text-align: right;\">\n",
       "      <th></th>\n",
       "      <th>x</th>\n",
       "      <th>y</th>\n",
       "      <th>z</th>\n",
       "      <th>mode</th>\n",
       "      <th>mean</th>\n",
       "      <th>variance</th>\n",
       "    </tr>\n",
       "  </thead>\n",
       "  <tbody>\n",
       "    <tr>\n",
       "      <th>62414</th>\n",
       "      <td>0.075058</td>\n",
       "      <td>-0.255096</td>\n",
       "      <td>-0.957489</td>\n",
       "      <td>0</td>\n",
       "      <td>-0.379176</td>\n",
       "      <td>0.278085</td>\n",
       "    </tr>\n",
       "    <tr>\n",
       "      <th>62415</th>\n",
       "      <td>0.111542</td>\n",
       "      <td>-0.271606</td>\n",
       "      <td>-0.953857</td>\n",
       "      <td>0</td>\n",
       "      <td>-0.371307</td>\n",
       "      <td>0.291224</td>\n",
       "    </tr>\n",
       "    <tr>\n",
       "      <th>62416</th>\n",
       "      <td>0.106552</td>\n",
       "      <td>-0.251404</td>\n",
       "      <td>-0.953812</td>\n",
       "      <td>0</td>\n",
       "      <td>-0.366221</td>\n",
       "      <td>0.290980</td>\n",
       "    </tr>\n",
       "    <tr>\n",
       "      <th>62417</th>\n",
       "      <td>0.123169</td>\n",
       "      <td>-0.301407</td>\n",
       "      <td>-0.952286</td>\n",
       "      <td>0</td>\n",
       "      <td>-0.376841</td>\n",
       "      <td>0.293418</td>\n",
       "    </tr>\n",
       "    <tr>\n",
       "      <th>62418</th>\n",
       "      <td>0.110001</td>\n",
       "      <td>-0.257141</td>\n",
       "      <td>-0.965820</td>\n",
       "      <td>0</td>\n",
       "      <td>-0.370987</td>\n",
       "      <td>0.299068</td>\n",
       "    </tr>\n",
       "  </tbody>\n",
       "</table>\n",
       "</div>"
      ],
      "text/plain": [
       "              x         y         z  mode      mean  variance\n",
       "62414  0.075058 -0.255096 -0.957489     0 -0.379176  0.278085\n",
       "62415  0.111542 -0.271606 -0.953857     0 -0.371307  0.291224\n",
       "62416  0.106552 -0.251404 -0.953812     0 -0.366221  0.290980\n",
       "62417  0.123169 -0.301407 -0.952286     0 -0.376841  0.293418\n",
       "62418  0.110001 -0.257141 -0.965820     0 -0.370987  0.299068"
      ]
     },
     "execution_count": 38,
     "metadata": {},
     "output_type": "execute_result"
    }
   ],
   "source": [
    "odf_acc3.tail()"
   ]
  },
  {
   "cell_type": "code",
   "execution_count": 39,
   "metadata": {},
   "outputs": [
    {
     "name": "stdout",
     "output_type": "stream",
     "text": [
      "[ 0.27971397  0.13228878 -0.89698587 -0.06660954 -0.4606652 ]\n",
      "------------------------------------------------\n",
      "[ 0.38274883  0.18431386 -0.73753395 -0.20481684 -0.04867473]\n",
      "------------------------------------------------\n",
      "[ 0.29778023 -0.64474945  0.45859172  0.22148891  0.05195221]\n",
      "------------------------------------------------\n",
      "[ 0.40203869 -0.50887897  0.42078002 -0.03030541  0.14111231]\n",
      "------------------------------------------------\n"
     ]
    }
   ],
   "source": [
    "print(np.corrcoef(odf_acc1[odf_acc1.columns].T)[-1][:-1])\n",
    "print(\"------------------------------------------------\")\n",
    "print(np.corrcoef(odf_acc2[odf_acc2.columns].T)[-1][:-1])\n",
    "print(\"------------------------------------------------\")\n",
    "print(np.corrcoef(odf_acc3[odf_acc3.columns].T)[-1][:-1])\n",
    "print(\"------------------------------------------------\")\n",
    "print(np.corrcoef(odf_acc4[odf_acc4.columns].T)[-1][:-1])\n",
    "print(\"------------------------------------------------\")"
   ]
  },
  {
   "cell_type": "code",
   "execution_count": 40,
   "metadata": {},
   "outputs": [],
   "source": [
    "odf_gyr1 = pd.read_csv(\"../data/ori_data/dataset1/Gyroscope.csv\").dropna(subset=['mode'])\n",
    "odf_gyr2 = pd.read_csv(\"../data/ori_data/dataset2/Gyroscope.csv\").dropna(subset=['mode'])\n",
    "odf_gyr3 = pd.read_csv(\"../data/ori_data/dataset3/Gyroscope.csv\").dropna(subset=['mode'])\n",
    "odf_gyr4 = pd.read_csv(\"../data/ori_data/dataset4/Gyroscope.csv\").dropna(subset=['mode'])\n",
    "odf_gyr1 = odf_gyr1.drop(columns=[\"TI\", \"TS\"]).replace({'mode': {'Train': 1, 'Walking': 0}})\n",
    "odf_gyr2 = odf_gyr2.drop(columns=[\"TI\", \"TS\"]).replace({'mode': {'Train': 1, 'Walking': 0}})\n",
    "odf_gyr3 = odf_gyr3.drop(columns=[\"TI\", \"TS\"]).replace({'mode': {'Train': 1, 'Walking': 0}})\n",
    "odf_gyr4 = odf_gyr4.drop(columns=[\"TI\", \"TS\"]).replace({'mode': {'Bus': 2, 'Train': 1, 'Walking': 0}})\n",
    "\n",
    "odf_gyr1['mean'] = odf_gyr1[['x', 'y', 'z']].mean(axis=1)\n",
    "odf_gyr2['mean'] = odf_gyr2[['x', 'y', 'z']].mean(axis=1)\n",
    "odf_gyr3['mean'] = odf_gyr3[['x', 'y', 'z']].mean(axis=1)\n",
    "odf_gyr4['mean'] = odf_gyr4[['x', 'y', 'z']].mean(axis=1)\n",
    "\n",
    "odf_gyr1['variance'] = odf_gyr1[['x', 'y', 'z']].var(axis=1)\n",
    "odf_gyr2['variance'] = odf_gyr2[['x', 'y', 'z']].var(axis=1)\n",
    "odf_gyr3['variance'] = odf_gyr3[['x', 'y', 'z']].var(axis=1)\n",
    "odf_gyr4['variance'] = odf_gyr4[['x', 'y', 'z']].var(axis=1)"
   ]
  },
  {
   "cell_type": "code",
   "execution_count": 41,
   "metadata": {},
   "outputs": [
    {
     "name": "stdout",
     "output_type": "stream",
     "text": [
      "[ 0.47396334 -0.13996441 -0.3996171  -0.06859937 -0.07940875]\n",
      "------------------------------------------------\n",
      "[ 0.07113102 -0.0292707  -0.09411874 -0.28064755 -0.06016119]\n",
      "------------------------------------------------\n",
      "[-0.07403801  0.13623019  0.01429505 -0.32630185  0.09719925]\n",
      "------------------------------------------------\n",
      "[-0.17182373  0.15853557  0.18086116 -0.12966448  0.11899864]\n",
      "------------------------------------------------\n"
     ]
    }
   ],
   "source": [
    "print(np.corrcoef(odf_gyr1[odf_gyr1.columns].T)[-1][:-1])\n",
    "print(\"------------------------------------------------\")\n",
    "print(np.corrcoef(odf_gyr2[odf_gyr2.columns].T)[-1][:-1])\n",
    "print(\"------------------------------------------------\")\n",
    "print(np.corrcoef(odf_gyr3[odf_gyr3.columns].T)[-1][:-1])\n",
    "print(\"------------------------------------------------\")\n",
    "print(np.corrcoef(odf_gyr4[odf_gyr4.columns].T)[-1][:-1])\n",
    "print(\"------------------------------------------------\")"
   ]
  },
  {
   "cell_type": "code",
   "execution_count": 42,
   "metadata": {},
   "outputs": [],
   "source": [
    "odf_mag1 = pd.read_csv(\"../data/ori_data/dataset1/Magnetometer.csv\").dropna(subset=['mode'])\n",
    "odf_mag2 = pd.read_csv(\"../data/ori_data/dataset2/Magnetometer.csv\").dropna(subset=['mode'])\n",
    "odf_mag3 = pd.read_csv(\"../data/ori_data/dataset3/Magnetometer.csv\").dropna(subset=['mode'])\n",
    "odf_mag4 = pd.read_csv(\"../data/ori_data/dataset4/Magnetometer.csv\").dropna(subset=['mode'])\n",
    "odf_mag1 = odf_mag1.drop(columns=[\"TI\", \"TS\"]).replace({'mode': {'Train': 1, 'Walking': 0}})\n",
    "odf_mag2 = odf_mag2.drop(columns=[\"TI\", \"TS\"]).replace({'mode': {'Train': 1, 'Walking': 0}})\n",
    "odf_mag3 = odf_mag3.drop(columns=[\"TI\", \"TS\"]).replace({'mode': {'Train': 1, 'Walking': 0}})\n",
    "odf_mag4 = odf_mag4.drop(columns=[\"TI\", \"TS\"]).replace({'mode': {'Bus': 2, 'Train': 1, 'Walking': 0}})\n",
    "\n",
    "odf_mag1['mean'] = odf_mag1[['x', 'y', 'z']].mean(axis=1)\n",
    "odf_mag2['mean'] = odf_mag2[['x', 'y', 'z']].mean(axis=1)\n",
    "odf_mag3['mean'] = odf_mag3[['x', 'y', 'z']].mean(axis=1)\n",
    "odf_mag4['mean'] = odf_mag4[['x', 'y', 'z']].mean(axis=1)\n",
    "\n",
    "odf_mag1['variance'] = odf_mag1[['x', 'y', 'z']].var(axis=1)\n",
    "odf_mag2['variance'] = odf_mag2[['x', 'y', 'z']].var(axis=1)\n",
    "odf_mag3['variance'] = odf_mag3[['x', 'y', 'z']].var(axis=1)\n",
    "odf_mag4['variance'] = odf_mag4[['x', 'y', 'z']].var(axis=1)"
   ]
  },
  {
   "cell_type": "code",
   "execution_count": 43,
   "metadata": {},
   "outputs": [
    {
     "name": "stdout",
     "output_type": "stream",
     "text": [
      "[ 0.20686809  0.83804543 -0.93573157  0.08792429  0.26771041]\n",
      "------------------------------------------------\n",
      "[ 0.81833408  0.31815286 -0.7628039  -0.1880751   0.39374145]\n",
      "------------------------------------------------\n",
      "[ 0.74881256  0.58893659 -0.79509457  0.73654859  0.46257929]\n",
      "------------------------------------------------\n",
      "[ 0.77901255 -0.09461434 -0.78201948  0.11720116 -0.03903382]\n",
      "------------------------------------------------\n"
     ]
    }
   ],
   "source": [
    "print(np.corrcoef(odf_mag1[odf_mag1.columns].T)[-1][:-1])\n",
    "print(\"------------------------------------------------\")\n",
    "print(np.corrcoef(odf_mag2[odf_mag2.columns].T)[-1][:-1])\n",
    "print(\"------------------------------------------------\")\n",
    "print(np.corrcoef(odf_mag3[odf_mag3.columns].T)[-1][:-1])\n",
    "print(\"------------------------------------------------\")\n",
    "print(np.corrcoef(odf_mag4[odf_mag4.columns].T)[-1][:-1])\n",
    "print(\"------------------------------------------------\")"
   ]
  },
  {
   "cell_type": "markdown",
   "metadata": {},
   "source": [
    "# Logistic Regression"
   ]
  },
  {
   "cell_type": "code",
   "execution_count": 44,
   "metadata": {},
   "outputs": [],
   "source": [
    "from sklearn.linear_model import LogisticRegression"
   ]
  },
  {
   "cell_type": "code",
   "execution_count": 45,
   "metadata": {},
   "outputs": [],
   "source": [
    "logit = LogisticRegression()"
   ]
  },
  {
   "cell_type": "code",
   "execution_count": 46,
   "metadata": {},
   "outputs": [
    {
     "data": {
      "text/plain": [
       "(11378, 8)"
      ]
     },
     "execution_count": 46,
     "metadata": {},
     "output_type": "execute_result"
    }
   ],
   "source": [
    "X_train.shape"
   ]
  },
  {
   "cell_type": "code",
   "execution_count": 47,
   "metadata": {},
   "outputs": [
    {
     "data": {
      "text/plain": [
       "(11378,)"
      ]
     },
     "execution_count": 47,
     "metadata": {},
     "output_type": "execute_result"
    }
   ],
   "source": [
    "Y_train.shape"
   ]
  },
  {
   "cell_type": "code",
   "execution_count": 48,
   "metadata": {},
   "outputs": [
    {
     "name": "stderr",
     "output_type": "stream",
     "text": [
      "/home/hoechenw/venv/lib/python3.6/site-packages/sklearn/linear_model/logistic.py:432: FutureWarning: Default solver will be changed to 'lbfgs' in 0.22. Specify a solver to silence this warning.\n",
      "  FutureWarning)\n"
     ]
    },
    {
     "data": {
      "text/plain": [
       "LogisticRegression(C=1.0, class_weight=None, dual=False, fit_intercept=True,\n",
       "          intercept_scaling=1, max_iter=100, multi_class='warn',\n",
       "          n_jobs=None, penalty='l2', random_state=None, solver='warn',\n",
       "          tol=0.0001, verbose=0, warm_start=False)"
      ]
     },
     "execution_count": 48,
     "metadata": {},
     "output_type": "execute_result"
    }
   ],
   "source": [
    "logit.fit(X_train, Y_train)"
   ]
  },
  {
   "cell_type": "code",
   "execution_count": 49,
   "metadata": {},
   "outputs": [],
   "source": [
    "res = logit.predict(X_test)"
   ]
  },
  {
   "cell_type": "code",
   "execution_count": 50,
   "metadata": {},
   "outputs": [
    {
     "name": "stdout",
     "output_type": "stream",
     "text": [
      "0.8485367782757711\n"
     ]
    }
   ],
   "source": [
    "print((res == Y_test).mean())"
   ]
  },
  {
   "cell_type": "code",
   "execution_count": 51,
   "metadata": {},
   "outputs": [],
   "source": [
    "n_neighbors = 20"
   ]
  },
  {
   "cell_type": "code",
   "execution_count": 52,
   "metadata": {},
   "outputs": [
    {
     "data": {
      "text/plain": [
       "KNeighborsClassifier(algorithm='auto', leaf_size=30, metric='minkowski',\n",
       "           metric_params=None, n_jobs=None, n_neighbors=20, p=2,\n",
       "           weights='uniform')"
      ]
     },
     "execution_count": 52,
     "metadata": {},
     "output_type": "execute_result"
    }
   ],
   "source": [
    "clf = KNeighborsClassifier(n_neighbors)\n",
    "clf.fit(X_train, Y_train)"
   ]
  },
  {
   "cell_type": "code",
   "execution_count": 53,
   "metadata": {},
   "outputs": [],
   "source": [
    "res = clf.predict(X_test)"
   ]
  },
  {
   "cell_type": "code",
   "execution_count": 54,
   "metadata": {},
   "outputs": [
    {
     "name": "stdout",
     "output_type": "stream",
     "text": [
      "0.9272343791194305\n"
     ]
    }
   ],
   "source": [
    "print((res == Y_test).mean())"
   ]
  },
  {
   "cell_type": "markdown",
   "metadata": {},
   "source": [
    "# Test with labelled data "
   ]
  },
  {
   "cell_type": "code",
   "execution_count": 55,
   "metadata": {},
   "outputs": [],
   "source": [
    "tndf_acc = pd.read_csv('../data/test_acc_labelled.csv')\n",
    "tndf_gyr = pd.read_csv(\"../data/gyr_test.csv\")\n",
    "tndf_mag = pd.read_csv(\"../data/mag_test.csv\")\n",
    "tndf_acc.columns = ['TI', 'TS', 'x', 'y', 'z', 'mode']"
   ]
  },
  {
   "cell_type": "code",
   "execution_count": 56,
   "metadata": {},
   "outputs": [
    {
     "data": {
      "text/plain": [
       "array(['Walking', 'Train'], dtype=object)"
      ]
     },
     "execution_count": 56,
     "metadata": {},
     "output_type": "execute_result"
    }
   ],
   "source": [
    "tndf_mag['mode'].unique()"
   ]
  },
  {
   "cell_type": "code",
   "execution_count": 57,
   "metadata": {},
   "outputs": [],
   "source": [
    "tndf_acc = tndf_acc.drop(columns=[\"TS\"]).replace({'mode': {'Train': 1, 'Walking': 0}})\n",
    "tndf_gyr = tndf_gyr.drop(columns=[\"TS\"]).replace({'mode': {'Train': 1, 'Walking': 0}})\n",
    "tndf_mag = tndf_mag.drop(columns=[\"TS\"]).replace({'mode': {'Train': 1, 'Walking': 0}})"
   ]
  },
  {
   "cell_type": "code",
   "execution_count": 58,
   "metadata": {},
   "outputs": [],
   "source": [
    "tndf_acc['mean'] = tndf_acc[['x', 'y', 'z']].mean(axis=1)\n",
    "tndf_gyr['mean'] = tndf_gyr[['x', 'y', 'z']].mean(axis=1)\n",
    "tndf_mag['mean'] = tndf_mag[['x', 'y', 'z']].mean(axis=1)"
   ]
  },
  {
   "cell_type": "code",
   "execution_count": 59,
   "metadata": {},
   "outputs": [],
   "source": [
    "tndf_acc['variance'] = tndf_acc[['x', 'y', 'z']].var(axis=1)\n",
    "tndf_gyr['variance'] = tndf_gyr[['x', 'y', 'z']].var(axis=1)\n",
    "tndf_mag['variance'] = tndf_mag[['x', 'y', 'z']].var(axis=1)"
   ]
  },
  {
   "cell_type": "code",
   "execution_count": 60,
   "metadata": {},
   "outputs": [],
   "source": [
    "tndf_acc['TI'] = tndf_acc['TI'].apply(lambda x: math.floor(x))\n",
    "tndf_gyr['TI'] = tndf_gyr['TI'].apply(lambda x: math.floor(x))\n",
    "tndf_mag['TI'] = tndf_mag['TI'].apply(lambda x: math.floor(x))"
   ]
  },
  {
   "cell_type": "code",
   "execution_count": 61,
   "metadata": {},
   "outputs": [],
   "source": [
    "nndf_acc = tndf_acc.groupby(['TI'], as_index=False)[['x', 'y', 'z', 'mode']].mean()\n",
    "nndf_gyr = tndf_gyr.groupby(['TI'], as_index=False)[['x', 'y', 'z', 'mode']].mean()\n",
    "nndf_mag = tndf_mag.groupby(['TI'], as_index=False)[['x', 'y', 'z', 'mode']].mean()"
   ]
  },
  {
   "cell_type": "code",
   "execution_count": 62,
   "metadata": {},
   "outputs": [],
   "source": [
    "nndf_acc['mode'] = nndf_acc['mode'].apply(lambda x: convert(x))\n",
    "nndf_gyr['mode'] = nndf_gyr['mode'].apply(lambda x: convert(x))\n",
    "nndf_mag['mode'] = nndf_mag['mode'].apply(lambda x: convert(x))"
   ]
  },
  {
   "cell_type": "code",
   "execution_count": 63,
   "metadata": {},
   "outputs": [],
   "source": [
    "nndf_acc_mag = nndf_acc.merge(nndf_mag, on=['TI', 'mode'])"
   ]
  },
  {
   "cell_type": "code",
   "execution_count": 64,
   "metadata": {},
   "outputs": [],
   "source": [
    "tfndf_acc_mag = nndf_acc_mag.drop(columns=['mode'])\n",
    "tfndf_acc_mag.columns = ['TI', 'acc_x', 'acc_y', 'acc_z', 'mag_x', 'mag_y', 'mag_z']"
   ]
  },
  {
   "cell_type": "code",
   "execution_count": 65,
   "metadata": {},
   "outputs": [],
   "source": [
    "tfndf_acc_mag.drop(columns=['TI'], inplace=True)\n",
    "tfndf_acc_mag['acc_norm'] = np.linalg.norm(tfndf_acc_mag[['acc_x','acc_y','acc_z']].values,axis=1)\n",
    "tfndf_acc_mag['mag_norm'] = np.linalg.norm(tfndf_acc_mag[['mag_x','mag_y','mag_z']].values,axis=1)\n",
    "tfndf_acc_mag['mode'] = nndf_acc_mag['mode']"
   ]
  },
  {
   "cell_type": "code",
   "execution_count": 66,
   "metadata": {},
   "outputs": [],
   "source": [
    "tfndf_acc_mag_val = tfndf_acc_mag.values"
   ]
  },
  {
   "cell_type": "code",
   "execution_count": 67,
   "metadata": {},
   "outputs": [],
   "source": [
    "X_new = tfndf_acc_mag_val[:, :-1]\n",
    "Y_new = tfndf_acc_mag_val[:, -1].astype(int)"
   ]
  },
  {
   "cell_type": "code",
   "execution_count": 68,
   "metadata": {},
   "outputs": [
    {
     "data": {
      "text/plain": [
       "array([[-1.93983895e-01, -2.34424046e-01, -9.51506478e-01, ...,\n",
       "        -3.14903379e+02,  9.98973955e-01,  4.70264015e+02],\n",
       "       [-5.91507761e-01, -3.67778577e-01, -5.60992592e-01, ...,\n",
       "        -2.90337549e+02,  8.94346243e-01,  4.57995016e+02],\n",
       "       [-1.99146271e-01, -8.78526306e-01,  2.41542816e-01, ...,\n",
       "        -2.59356274e+02,  9.32636392e-01,  4.55684887e+02],\n",
       "       ...,\n",
       "       [ 4.54643249e-02, -1.77707672e-01, -9.88655853e-01, ...,\n",
       "        -3.37310105e+02,  1.00552843e+00,  4.77170215e+02],\n",
       "       [ 1.15650940e-01, -2.77850342e-01, -9.43048859e-01, ...,\n",
       "        -3.36095604e+02,  9.89907623e-01,  4.80823405e+02],\n",
       "       [ 1.32276917e-01, -2.94261169e-01, -9.38121033e-01, ...,\n",
       "        -3.36082062e+02,  9.92047323e-01,  4.81710974e+02]])"
      ]
     },
     "execution_count": 68,
     "metadata": {},
     "output_type": "execute_result"
    }
   ],
   "source": [
    "X_new"
   ]
  },
  {
   "cell_type": "code",
   "execution_count": 69,
   "metadata": {},
   "outputs": [],
   "source": [
    "tres = logit.predict(X_new)"
   ]
  },
  {
   "cell_type": "code",
   "execution_count": 70,
   "metadata": {},
   "outputs": [
    {
     "name": "stdout",
     "output_type": "stream",
     "text": [
      "0.8250465823281358\n"
     ]
    }
   ],
   "source": [
    "print((tres == Y_new).mean())"
   ]
  },
  {
   "cell_type": "code",
   "execution_count": 71,
   "metadata": {},
   "outputs": [],
   "source": [
    "ktres = clf.predict(X_new)"
   ]
  },
  {
   "cell_type": "code",
   "execution_count": 72,
   "metadata": {},
   "outputs": [
    {
     "name": "stdout",
     "output_type": "stream",
     "text": [
      "0.8250465823281358\n"
     ]
    }
   ],
   "source": [
    "print((ktres == Y_new).mean())"
   ]
  },
  {
   "cell_type": "code",
   "execution_count": 73,
   "metadata": {},
   "outputs": [],
   "source": [
    "new_shuf_data = tfndf_acc_mag_val\n",
    "np.random.shuffle(new_shuf_data)"
   ]
  },
  {
   "cell_type": "code",
   "execution_count": 74,
   "metadata": {},
   "outputs": [],
   "source": [
    "sX_new = new_shuf_data[:, :-1]\n",
    "sY_new = new_shuf_data[:, -1].astype(int)"
   ]
  },
  {
   "cell_type": "code",
   "execution_count": 75,
   "metadata": {},
   "outputs": [],
   "source": [
    "ntres = logit.predict(sX_new)"
   ]
  },
  {
   "cell_type": "code",
   "execution_count": 76,
   "metadata": {},
   "outputs": [
    {
     "name": "stdout",
     "output_type": "stream",
     "text": [
      "0.8250465823281358\n"
     ]
    }
   ],
   "source": [
    "print((ntres == sY_new).mean())"
   ]
  },
  {
   "cell_type": "code",
   "execution_count": null,
   "metadata": {},
   "outputs": [],
   "source": []
  },
  {
   "cell_type": "code",
   "execution_count": null,
   "metadata": {},
   "outputs": [],
   "source": []
  },
  {
   "cell_type": "code",
   "execution_count": null,
   "metadata": {},
   "outputs": [],
   "source": []
  },
  {
   "cell_type": "code",
   "execution_count": null,
   "metadata": {},
   "outputs": [],
   "source": []
  },
  {
   "cell_type": "code",
   "execution_count": null,
   "metadata": {},
   "outputs": [],
   "source": []
  }
 ],
 "metadata": {
  "kernelspec": {
   "display_name": "Python 3",
   "language": "python",
   "name": "python3"
  },
  "language_info": {
   "codemirror_mode": {
    "name": "ipython",
    "version": 3
   },
   "file_extension": ".py",
   "mimetype": "text/x-python",
   "name": "python",
   "nbconvert_exporter": "python",
   "pygments_lexer": "ipython3",
   "version": "3.6.6"
  }
 },
 "nbformat": 4,
 "nbformat_minor": 2
}
